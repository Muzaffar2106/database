{
  "nbformat": 4,
  "nbformat_minor": 0,
  "metadata": {
    "colab": {
      "provenance": [],
      "authorship_tag": "ABX9TyNbICsp8wq+/LBEpnU8qspm",
      "include_colab_link": true
    },
    "kernelspec": {
      "name": "python3",
      "display_name": "Python 3"
    },
    "language_info": {
      "name": "python"
    }
  },
  "cells": [
    {
      "cell_type": "markdown",
      "metadata": {
        "id": "view-in-github",
        "colab_type": "text"
      },
      "source": [
        "<a href=\"https://colab.research.google.com/github/Muzaffar2106/database/blob/main/SQLTuto.ipynb\" target=\"_parent\"><img src=\"https://colab.research.google.com/assets/colab-badge.svg\" alt=\"Open In Colab\"/></a>"
      ]
    },
    {
      "cell_type": "code",
      "execution_count": 1,
      "metadata": {
        "id": "NN1oD6-sRctI"
      },
      "outputs": [],
      "source": [
        "import sqlite3"
      ]
    },
    {
      "cell_type": "code",
      "source": [
        "conn = sqlite3.connect(\"test.db\")"
      ],
      "metadata": {
        "id": "mmHmri_ERecE"
      },
      "execution_count": 2,
      "outputs": []
    },
    {
      "cell_type": "code",
      "source": [
        "cur = conn.cursor()"
      ],
      "metadata": {
        "id": "dU2OkQ8vRiI_"
      },
      "execution_count": 3,
      "outputs": []
    },
    {
      "cell_type": "code",
      "source": [
        "sql = \"\"\"\n",
        "CREATE TABLE IF NOT EXISTS users(\n",
        "   userid INT PRIMARY KEY,\n",
        "   fname TEXT,\n",
        "   lname TEXT,\n",
        "   superhero TEXT,\n",
        "   gender TEXT);\n",
        "\"\"\"\n",
        "\n",
        "# Execute query and commit transaction\n",
        "cur.execute(sql)"
      ],
      "metadata": {
        "colab": {
          "base_uri": "https://localhost:8080/"
        },
        "id": "zc4WwVZCRmWe",
        "outputId": "c38c9ec9-0f8f-4f10-b7b0-f30b8b5b85df"
      },
      "execution_count": 4,
      "outputs": [
        {
          "output_type": "execute_result",
          "data": {
            "text/plain": [
              "<sqlite3.Cursor at 0x7f005a223440>"
            ]
          },
          "metadata": {},
          "execution_count": 4
        }
      ]
    },
    {
      "cell_type": "code",
      "source": [
        "sql1 = \"\"\"\n",
        "CREATE TABLE IF NOT EXISTS film(\n",
        "  filmid INT PRIMARY KEY,\n",
        "  filmTitle TEXT,\n",
        "  filmProducer TEXT,\n",
        "  filmRating INT,\n",
        "  filmDescription TEXT);\n",
        "\"\"\"\n",
        "\n",
        "cur.execute(sql1)"
      ],
      "metadata": {
        "colab": {
          "base_uri": "https://localhost:8080/"
        },
        "id": "PirN4NgDRsMm",
        "outputId": "dfd4d86d-e0db-44b4-9f03-b55420c3067f"
      },
      "execution_count": 5,
      "outputs": [
        {
          "output_type": "execute_result",
          "data": {
            "text/plain": [
              "<sqlite3.Cursor at 0x7f005a223440>"
            ]
          },
          "metadata": {},
          "execution_count": 5
        }
      ]
    },
    {
      "cell_type": "code",
      "source": [
        "#check schema of database\n",
        "sql = \"\"\"\n",
        "SELECT name\n",
        "FROM sqlite_master\n",
        "WHERE type = 'table';\n",
        "\"\"\"\n",
        "cur.execute(sql)\n",
        "cur.fetchall() "
      ],
      "metadata": {
        "colab": {
          "base_uri": "https://localhost:8080/"
        },
        "id": "Pr0QfMcmSI0h",
        "outputId": "85856d4f-b697-4a2e-ec28-8a88fcdbd05a"
      },
      "execution_count": 6,
      "outputs": [
        {
          "output_type": "execute_result",
          "data": {
            "text/plain": [
              "[('users',), ('film',)]"
            ]
          },
          "metadata": {},
          "execution_count": 6
        }
      ]
    },
    {
      "cell_type": "code",
      "source": [
        "#check schema of table users using PRAGMA\n",
        "sql = \"\"\"\n",
        "PRAGMA table_info('users')\n",
        "\"\"\"\n",
        "cur.execute(sql)\n",
        "cur.fetchall()"
      ],
      "metadata": {
        "colab": {
          "base_uri": "https://localhost:8080/"
        },
        "id": "l_qST3vVT2tg",
        "outputId": "329f6cf1-a906-4e33-deac-81a35a8b49f2"
      },
      "execution_count": 7,
      "outputs": [
        {
          "output_type": "execute_result",
          "data": {
            "text/plain": [
              "[(0, 'userid', 'INT', 0, None, 1),\n",
              " (1, 'fname', 'TEXT', 0, None, 0),\n",
              " (2, 'lname', 'TEXT', 0, None, 0),\n",
              " (3, 'superhero', 'TEXT', 0, None, 0),\n",
              " (4, 'gender', 'TEXT', 0, None, 0)]"
            ]
          },
          "metadata": {},
          "execution_count": 7
        }
      ]
    },
    {
      "cell_type": "code",
      "source": [
        "#insert data into table\n",
        "sql = \"\"\"\n",
        "INSERT INTO users\n",
        "VALUES(1, 'Fedally', 'Muzaffar', 'Male', 'IronMan');\n",
        "\"\"\"\n",
        "\n",
        "cur.execute(sql)"
      ],
      "metadata": {
        "colab": {
          "base_uri": "https://localhost:8080/"
        },
        "id": "ynADJpBrUVKo",
        "outputId": "42460288-bde8-43e7-eaf6-d4106dbc02d3"
      },
      "execution_count": 8,
      "outputs": [
        {
          "output_type": "execute_result",
          "data": {
            "text/plain": [
              "<sqlite3.Cursor at 0x7f005a223440>"
            ]
          },
          "metadata": {},
          "execution_count": 8
        }
      ]
    },
    {
      "cell_type": "code",
      "source": [
        "#check whether data has been inserted into table users\n",
        "sql = \"\"\"\n",
        "SELECT *\n",
        "FROM users;\n",
        "\"\"\"\n",
        "\n",
        "cur.execute(sql)\n",
        "cur.fetchall()"
      ],
      "metadata": {
        "colab": {
          "base_uri": "https://localhost:8080/"
        },
        "id": "fxC8BUkPVLxv",
        "outputId": "cd175a1b-2441-47e0-a360-af629bff8df2"
      },
      "execution_count": 9,
      "outputs": [
        {
          "output_type": "execute_result",
          "data": {
            "text/plain": [
              "[(1, 'Fedally', 'Muzaffar', 'Male', 'IronMan')]"
            ]
          },
          "metadata": {},
          "execution_count": 9
        }
      ]
    },
    {
      "cell_type": "code",
      "source": [
        "#insert data into table\n",
        "sql = \"\"\"\n",
        "INSERT INTO users \n",
        "VALUES(2, 'Subdurally', 'Jamila', 'Female', 'Wonderwoman');\n",
        "\"\"\"\n",
        "\n",
        "cur.execute(sql)"
      ],
      "metadata": {
        "colab": {
          "base_uri": "https://localhost:8080/"
        },
        "id": "625Xc-WhVj8M",
        "outputId": "a41bb6ac-91dc-4f39-b751-85534a9ee643"
      },
      "execution_count": 12,
      "outputs": [
        {
          "output_type": "execute_result",
          "data": {
            "text/plain": [
              "<sqlite3.Cursor at 0x7f005a223440>"
            ]
          },
          "metadata": {},
          "execution_count": 12
        }
      ]
    },
    {
      "cell_type": "code",
      "source": [
        "#check whether data has been inserted into table users\n",
        "sql = \"\"\"\n",
        "SELECT *\n",
        "FROM users;\n",
        "\"\"\"\n",
        "\n",
        "cur.execute(sql)\n",
        "cur.fetchall()"
      ],
      "metadata": {
        "colab": {
          "base_uri": "https://localhost:8080/"
        },
        "id": "qF8mkjt6W4wI",
        "outputId": "f3aa950d-b572-44cc-ff25-bfa391144253"
      },
      "execution_count": 15,
      "outputs": [
        {
          "output_type": "execute_result",
          "data": {
            "text/plain": [
              "[(1, 'Fedally', 'Muzaffar', 'Male', 'IronMan'),\n",
              " (2, 'Subdurally', 'Jamila', 'Female', 'Wonderwoman')]"
            ]
          },
          "metadata": {},
          "execution_count": 15
        }
      ]
    },
    {
      "cell_type": "code",
      "source": [
        "#inserting many values in the database\n",
        "many_values = (3, \"Laura\", \"Fletcher\", \"Female\", \"Catwoman\"), (4,\"Peter\", \"Parker\", \"Male\", \"Spiderman\"), (5, \"Chris\", \"Evans\", \"Male\", \"CaptainAmerica\")\n",
        "\n",
        "sql = \"\"\"\n",
        "INSERT INTO users\n",
        "VALUES (?,?,?,?,?);\n",
        "\"\"\"\n",
        "\n",
        "cur.executemany(sql, many_values)"
      ],
      "metadata": {
        "colab": {
          "base_uri": "https://localhost:8080/"
        },
        "id": "xjvkRQN8XYkd",
        "outputId": "8fc374ff-4afb-42d5-8376-c5c5dd5858e9"
      },
      "execution_count": 26,
      "outputs": [
        {
          "output_type": "execute_result",
          "data": {
            "text/plain": [
              "<sqlite3.Cursor at 0x7f005a223440>"
            ]
          },
          "metadata": {},
          "execution_count": 26
        }
      ]
    }
  ]
}